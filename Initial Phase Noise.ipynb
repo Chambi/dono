{
 "metadata": {
  "name": "Initial Phase Noise"
 },
 "nbformat": 3,
 "nbformat_minor": 0,
 "worksheets": [
  {
   "cells": [
    {
     "cell_type": "heading",
     "level": 1,
     "metadata": {},
     "source": [
      "Phase Noise via Beat Signal"
     ]
    },
    {
     "cell_type": "markdown",
     "metadata": {},
     "source": [
      "\n",
      "The spectrum of an ideal waveform $\\propto\\sin(\\omega_0 t)$ is a $\\delta$-peak at the carrier frequency $\\omega_0$ which contains all the signal power. Now, if one supposes a phase modulation $\\phi (t)$ the resulting signal is\n",
      "$$ \\mathcal S_{ideal}(t) = \\sin(\\omega_0 t) \\Rightarrow S_{ideal}(f)=\\delta(\\omega_0) \\qquad \\mathcal S_{mod}(t) = \\sin(\\omega_0 t + \\underbrace{ m \\sin(2\\pi f_m t) }_{\\phi(t)}.$$\n",
      "\n",
      "For this the mean square phase deviation can be calculated as \n",
      "    $$\\langle \\phi \\rangle^2 = \\lim_{T\\rightarrow \\infty} \\frac{1}{T} \\int_{-T/2}^{T/2} |\\phi(t)|^2 dt = \\frac{m^2}{2} .$$\n",
      "\n",
      "The modulated spectrum $\\mathcal S_{mod}(f)$ is described by Bessel functions, which appear as sidebands to the carrier at multiples of the modulation frequency $f_m$.\n",
      "If the modulation is small enough the higher order Bessel coefficients become negligibel and the modulated signal can be written as\n",
      "$$ e^{i( \\omega t + m\\sin(\\omega_m t))} = e^{i\\omega t} \\sum_{n=-\\infty}^\\infty J_n(m) e^{in \\omega_m t} \\stackrel{m < 0.4}{\\approx}  e^{i\\omega t} \\left[ \\frac{m}{2} e^{-i\\omega_m t} + 1 + \\frac{m}{2}e^{i\\omega_m t} \\right]. $$\n",
      "\n",
      "[FIGURE BELOW ABOUT THIS LIMIT]\n",
      "\n",
      "In this case two sidebands with power $m^2/4$ in each will appear. This power will be missing in the carrier. The amplitudes of the sidebands and the carrier are connected via the modulation index by \n",
      "\n",
      "$$ \\frac{P_{single\\ sideband}}{P_{carrier}} = \\frac{m^2}{4}= \\frac{\\langle \\phi \\rangle^2}{2}$$\n",
      "\n",
      "(see e.g. section \\ref{SECTION ABOUT BESSEL FUNC}).\n",
      "\n",
      "A continous noise spectrum can be \"build up\" by small modulations at different frequencies. The spectrum on the spectrum analyzer is measured in dBm at a certain resolution bandwidth RBW in Hz. The measured power is normalized to a 1 Hz by substracting $10 \\cdot log_{10}(RBW)$. \\\\\n",
      "\n",
      "From this one can find a connection between the mean square phase deviation and integration over the normalized signal spectrum seen on the spectrum analyzer:\n",
      "\n",
      "$$ \\langle \\phi \\rangle^2 = \\frac{ \\int_{both\\ sidebands} P(\\nu)[dBm/Hz] d\\nu }{ P_{carrier} } = \\frac{ 2 \\int_{one\\ sideband} P(\\nu) d\\nu }{P_{carrier}} = 2 \\int_{one\\ sideband} P(\\nu)[dBc/Hz] d\\nu.$$\n",
      "\n",
      "The unit dBc means that this spectrum has been normalized to the carrier amplitude.\n",
      "\n",
      "Alternatively this can be written in a \"power fraction in carrier\"-form used e.g. in PREVEDELLI\n",
      "    $$ \\eta = 1 - \\langle \\phi \\rangle^2 = \\frac{ P_{carrier} }{ \\int_{-\\infty}^\\infty P(\\nu) [dBm/Hz] d\\nu} $$\n",
      "\n",
      "Advantages of this method include that no quadrature has to be kept, which allows also for the measurement of relatively large phase noise or signals that drift in phase during the measurement time. The limit in which this approximation is still valid ($m<0.4$) means that the suppression of phase noise signal compared to the carrier has to be larger than -14 dB \\footnote{This is $10 \\log (0.4^2/4)$.} for all frequencies. Still the frequency stability has to be given, such that the carrier frequency stays at the same value. \\\\\n",
      "\n",
      "On the other hand this method is sensitive to amplitude fluctuations. To obtain the rms-deviation most spectrum analyzers offer an \"I-O measurement\" \\footnote{Available for the used Agilent N9010A for several thousand Euros, but still limited by the same dynamic range.} option to differ between the noise which is in-phase with the carrier (amplitude) and in-quadrature with the carrier (phase-noise). \n",
      "\n",
      "In the case of the used external-cavity diode lasers the amplitude noise is negligible compared to the noise added by elements in the optical path. For WHICH AND WHY lasers this is not the case. \\\\\n",
      "If the phase noise is decreased by the phase locked loop, the amplitude noise can no longer be neglected. \\\\\n",
      "\n",
      "Another limit to this measurement method is the free dynamic range of the spectrum analyzer. The free dynamic range at a certain offset frequency gives the smallest signal that can be displayed together with a carrier of a certain strength. In each measurement it has to be verified that the spectrum signal lies several dB above the spectrum analyzers dynamic range. \\\\\n"
     ]
    },
    {
     "cell_type": "heading",
     "level": 3,
     "metadata": {},
     "source": [
      "Modulation Index for which higher orders are negligible"
     ]
    },
    {
     "cell_type": "code",
     "collapsed": false,
     "input": [
      "# The joined and RBW normalized function is contained in a file in the folder and was calculated by the \"Joined-Function Code\n",
      "import panna as p # loads data contained in folder\n",
      "import numpy as np\t\t# numpy for array handling, integration\n",
      "from numpy import array, arange\n",
      "from math import sqrt, log10 ,pi, log\n",
      "from pylab import *\n",
      "from scipy.special import jn # jn(n,x) returns the Bessel function of integer order n at x\n"
     ],
     "language": "python",
     "metadata": {},
     "outputs": [
      {
       "output_type": "stream",
       "stream": "stdout",
       "text": [
        "access file  DDSPFD_ResultSPHI.csv  via index  0\n",
        "access file  initial.csv  via index  1\n",
        "access file  optical_vs_DDS.csv  via index  2\n"
       ]
      }
     ],
     "prompt_number": 1
    },
    {
     "cell_type": "code",
     "collapsed": false,
     "input": [
      "\n",
      "mod_ind = linspace(0,10,100)\n",
      "figure(1)\n",
      "subplot(121)\n",
      "for i in arange(0,3):\n",
      "    plot(mod_ind, jn(i, mod_ind), label=r\"$J_{\"+str(i)+\"}(m)$\")\n",
      "legend()\n",
      "xlabel(r\"$m$\")\n",
      "ylabel(r\"Bessel Function Value $J_n (m)$\")\n",
      "\n",
      "mod_ind = linspace(0,1,100)\n",
      "subplot(122)\n",
      "for i in arange(0,3):\n",
      "    plot(mod_ind, jn(i, mod_ind), label=r\"$J_{\"+str(i)+\"}(m)$\")\n",
      "plot(mod_ind, mod_ind/2, '--', label = r\"$A(m) = m/2$\")\n",
      "\n",
      "xlabel(r\"$m$\")\n",
      "ylabel(r\"Bessel Function Value $J_n (m)$\")\n",
      "legend()\n",
      "tight_layout()\n",
      "savefig(\"Phase_Noise_via_Beat_Signal_Bessel_functions.png\")\n",
      "show()"
     ],
     "language": "python",
     "metadata": {},
     "outputs": [],
     "prompt_number": 2
    },
    {
     "cell_type": "markdown",
     "metadata": {},
     "source": [
      "If the modulation is small the higher order Bessel coefficients become negligibel and only two sidebands with power $m^2/4$ in each will appear. This power will be missing in the carrier. The amplitudes of the sidebands and the carrier are connected via the modulation index by \n",
      "    $$ \\frac{P_{single\\ sideband}}{P_{carrier}} = \\frac{m^2}{4}= \\frac{\\langle \\phi \\rangle^2}{2}.$$"
     ]
    },
    {
     "cell_type": "code",
     "collapsed": false,
     "input": [
      "# Integration limits\n",
      "xmin = 1.57 # Hz, otherwise the shape of the resolution bandwidth is interpreted as phase noise\n",
      "xmax = 1e6 # Hz"
     ],
     "language": "python",
     "metadata": {},
     "outputs": [],
     "prompt_number": 3
    },
    {
     "cell_type": "code",
     "collapsed": false,
     "input": [
      "data = p.load_all()\n",
      "len_files = p.number_of_files()\n",
      "print len_files\n",
      "\n",
      "x, y = [0]*len_files, [0]*len_files\n",
      "for i in arange(0,len_files):\n",
      "    x[i], y[i] = list(data[i][:,0]), list(data[i][:,1])"
     ],
     "language": "python",
     "metadata": {},
     "outputs": [
      {
       "output_type": "stream",
       "stream": "stdout",
       "text": [
        "3\n"
       ]
      }
     ],
     "prompt_number": 4
    },
    {
     "cell_type": "heading",
     "level": 2,
     "metadata": {},
     "source": [
      "Plot found Files"
     ]
    },
    {
     "cell_type": "code",
     "collapsed": false,
     "input": [
      "figure(1)\n",
      "subplot(121)\n",
      "#p.colorcycle(len_files)\n",
      "for i in arange(0, len_files): \n",
      "\tplot(x[i], y[i], label = 'Beat Signal Spectrum')\n",
      "\ti += 1\n",
      "\n",
      "xlim(-1.2e6, 1.2e6)\n",
      "#legend()\n",
      "xlabel(\"Frequency [Hz]\") \n",
      "ylabel(\"Amplitude relative to Carrier [dBc/Hz]\")\n",
      "p.grey_title(\"Beat Signal Spectrum\")\n",
      "grid()\n",
      "\n",
      "subplot(122)\n",
      "for i in arange(0, len_files): \n",
      "\tplot(x[i], y[i], label = 'Beat Signal Spectrum')\n",
      "\ti += 1\n",
      "xscale('log')\n",
      "xlabel(\"Offset Frequency (logarithmic) [Hz]\") \n",
      "ylabel(\"Amplitude [dBc/Hz]\")\n",
      "p.grey_title(\"Zoom into the Phase Noise\")\n",
      "grid(True, which = 'both')\n",
      "xlim(0.9, 2e6)\n",
      "ylim(-120,-20)\n",
      "tight_layout()\n",
      "savefig(\"comparison_step_1_plot_input_data.png\")\n",
      "show()"
     ],
     "language": "python",
     "metadata": {},
     "outputs": [],
     "prompt_number": 5
    },
    {
     "cell_type": "heading",
     "level": 3,
     "metadata": {},
     "source": [
      "Initial Phase Noise Spectral Density"
     ]
    },
    {
     "cell_type": "heading",
     "level": 3,
     "metadata": {},
     "source": [
      "S_phi^lock = DDS+2*S_phi^optical vs DDS"
     ]
    },
    {
     "cell_type": "code",
     "collapsed": false,
     "input": [
      "figure(1)\n",
      "\n",
      "y_lin, start, stop = [0]*len_files, [0]*len_files, [0]*len_files\n",
      "\n",
      "subplot(111)\n",
      "p.colorcycle(3)\n",
      "i=0\n",
      "plot(x[i], y[i], label = r'$S_\\phi^{DDS,\\ PFD}(f)$')\n",
      "#i=1\n",
      "#plot(x[i], y[i], label = r'$S_\\phi^{DDS,\\ PFD}(f)$')\n",
      "i=2\n",
      "plot(x[i], y[i], label = r'$S_\\phi^{vs\\ ref}(f)$')\n",
      "y_lin[0] = array([pow(10, element/10.0) for element in y[0]])\n",
      "y_lin[2] = array([pow(10, element/10.0) for element in y[2]])\n",
      "sum02 = 10*log10(y_lin[0][0:len(x[2])]+2*y_lin[2])\n",
      "print len(y_lin[0]), len(y_lin[2]), len(x[2])\n",
      "plot(x[2], sum02, label = r'$S_\\phi^{locked}(f) = S_\\phi^{DDS,\\ PFD}(f)+2\\cdot S_\\phi^{vs\\ ref}(f)$')\n",
      "xscale('log')\n",
      "xlabel(\"Offset Frequency (logarithmic) [Hz]\") \n",
      "ylabel(\"Amplitude [dB rad$^2$/Hz]\")\n",
      "p.grey_title(\"Phase Noise in Lock\")\n",
      "grid(True, which = 'both')\n",
      "xlim(0.9, 2e6)\n",
      "ylim(-145,-15)\n",
      "tight_layout()\n",
      "legend()\n",
      "savefig(\"PhaseNoiseInLock.png\")\n",
      "show()"
     ],
     "language": "python",
     "metadata": {},
     "outputs": [
      {
       "output_type": "stream",
       "stream": "stdout",
       "text": [
        "5940 5940 5940\n"
       ]
      }
     ],
     "prompt_number": 6
    },
    {
     "cell_type": "heading",
     "level": 3,
     "metadata": {},
     "source": [
      "S_phi Lock vs S_phi initial"
     ]
    },
    {
     "cell_type": "code",
     "collapsed": false,
     "input": [
      "figure(1)\n",
      "\n",
      "y_lin, start, stop = [0]*len_files, [0]*len_files, [0]*len_files\n",
      "\n",
      "subplot(111)\n",
      "p.colorcycle(3)\n",
      "#i=0\n",
      "#plot(x[i], y[i], label = r'$S_\\phi^{DDS,\\ PFD}(f)$')\n",
      "i=1\n",
      "plot(x[i], y[i], label = r'$S_\\phi^{initial}(f)$')\n",
      "#i=2\n",
      "#plot(x[i], y[i], label = r'$S_\\phi^{vs\\ ref}(f)$')\n",
      "y_lin[0] = array([pow(10, element/10.0) for element in y[0]])\n",
      "y_lin[2] = array([pow(10, element/10.0) for element in y[2]])\n",
      "sum02 = 10*log10(y_lin[0][0:len(x[2])]+2*y_lin[2])\n",
      "print len(y_lin[0]), len(y_lin[2]), len(x[2])\n",
      "plot(x[2], sum02, label = r'$S_\\phi^{locked}(f)$')\n",
      "xscale('log')\n",
      "xlabel(\"Offset Frequency (logarithmic) [Hz]\") \n",
      "ylabel(\"Amplitude [dB rad$^2$/Hz]\")\n",
      "p.grey_title(\"Comparison of the Phase Noise with and without Phase Lock\")\n",
      "grid(True, which = 'both')\n",
      "xlim(0.114, 1.27e6)\n",
      "#ylim(-145,-15)\n",
      "tight_layout()\n",
      "legend()\n",
      "savefig(\"Locked_vs_Unlocked_SPhi.svg\")\n",
      "#savefig(\"Locked_vs_Unlocked_SPhi.png\")\n",
      "show()"
     ],
     "language": "python",
     "metadata": {},
     "outputs": [
      {
       "output_type": "stream",
       "stream": "stdout",
       "text": [
        "5940 5940 5940\n"
       ]
      }
     ],
     "prompt_number": 8
    },
    {
     "cell_type": "heading",
     "level": 2,
     "metadata": {},
     "source": [
      "Shift to 0 Hz Center"
     ]
    },
    {
     "cell_type": "code",
     "collapsed": false,
     "input": [
      "def find_center(x_values, y_values):\n",
      "\ty_values = list(y_values)\n",
      "\tmaximum_index \t= y_values.index(max(y_values))\t\n",
      "\tcenterfreq\t= x_values[maximum_index]\n",
      "\treturn centerfreq, maximum_index\n",
      "\n",
      "for i in arange(0, len_files):\n",
      "    x[i] = list(array(x[i])-find_center(x[i],y[i])[0])"
     ],
     "language": "python",
     "metadata": {},
     "outputs": [],
     "prompt_number": 6
    },
    {
     "cell_type": "heading",
     "level": 2,
     "metadata": {},
     "source": [
      "dBc values "
     ]
    },
    {
     "cell_type": "code",
     "collapsed": false,
     "input": [
      "######### Step 2: dBc values and integration limits ############\n",
      "y_lin, start, stop = [0]*len_files, [0]*len_files, [0]*len_files\n",
      "\n",
      "for i in arange(0, len_files): \n",
      "\t######## dBc and linear values #############\n",
      "\ty[i] = array(y[i]) - max(y[i])\n",
      "\ty_lin[i] = [pow(10, element/10.0) for element in y[i]] \n",
      "\t######## find integration limits ############\n",
      "\tstart[i] \t= x[i].index(min(x[i], key= lambda d: abs(xmin-d)))\n",
      "\tstop[i] \t= x[i].index(min(x[i], key= lambda d: abs(xmax-d)))\t\n",
      "\n",
      "center\t= 0"
     ],
     "language": "python",
     "metadata": {},
     "outputs": [],
     "prompt_number": 23
    },
    {
     "cell_type": "heading",
     "level": 2,
     "metadata": {},
     "source": [
      "Result / Integration"
     ]
    },
    {
     "cell_type": "markdown",
     "metadata": {},
     "source": [
      "Equation 1:    \n",
      "$$ \\langle \\phi \\rangle^2 = \\frac{ \\int_{both\\ sidebands} P(\\nu)[dBm/Hz] d\\nu }{ P_{carrier} } = \\frac{ 2 \\int_{one\\ sideband} P(\\nu) d\\nu }{P_{carrier}} = 2 \\int_{one\\ sideband} P(\\nu)[dBc/Hz] d\\nu $$\n",
      "Equation 2:\n",
      "$$ \\eta = e^{-\\langle \\phi\\rangle^2} =  1 - \\langle \\phi \\rangle^2 = \\frac{ \\int P_{carrier} d\\nu }{ \\int_{-\\infty}^\\infty P(\\nu) [dBm/Hz] d\\nu} = \\frac{\\int_0^{RBW_{min}} P_{carrier} d\\nu}{\\int_{0}^\\infty P(\\nu) d\\nu }$$"
     ]
    },
    {
     "cell_type": "code",
     "collapsed": false,
     "input": [
      "####### Step 3: Find the phase noise by integration ##########\n",
      "phi, mu = [0]*len_files, [0]*len_files\n",
      "\n",
      "for i in arange(0, len_files): \n",
      "    ### Equation 1\n",
      "    phi[i]\t= sqrt(2*abs(np.trapz(y_lin[i][start[i]:stop[i]], x[i][start[i]:stop[i]])))\n",
      "    ### Equation 2\n",
      "    mu[i]\t= np.trapz(y_lin[i][center:start[i]], x = x[i][center:start[i]])/np.trapz(y_lin[i][center:stop[i]], x = x[i][center:stop[i]])\n",
      "    print \"file: \",i \n",
      "    print \"Eq1: power spectral density ---> phase noise = \",round(phi[i],5),\"rad (\",round(phi[i]/pi*180.0,3),\"deg)\"\n",
      "    print \"E12: power in carrier ---> phase noise = \",round(sqrt(-log(mu[i])),5),\"rad (\",round(sqrt(-log(mu[i]))/pi*180.0,3),\"deg)\""
     ],
     "language": "python",
     "metadata": {},
     "outputs": [
      {
       "output_type": "stream",
       "stream": "stdout",
       "text": [
        "file:  0\n",
        "Eq1: power spectral density ---> phase noise =  0.07917 rad ( 4.536 deg)\n",
        "E12: power in carrier ---> phase noise =  0.05454 rad ( 3.125 deg)\n"
       ]
      }
     ],
     "prompt_number": 7
    },
    {
     "cell_type": "code",
     "collapsed": false,
     "input": [
      "### Step 4: plot in dBc and logscale ###\n",
      "figure(2)\n",
      "p.colorcycle(len_files)\n",
      "for i in arange(0, len_files):\n",
      "\tplot(x[i], y[i], label = r\"file \"+str(i)+r\"; $\\langle \\phi \\rangle $ = \"+str(round(phi[i]/pi*180.0,3))+r\"$^\\circ$\")\n",
      "\n",
      "plot([xmin]*10,linspace(min(y[0]), max(y[0]), 10), '--', color = \"grey\")\n",
      "plot([xmax]*10,linspace(min(y[0]), max(y[0]), 10), '--', color = \"grey\", label = \"Integration limits\")\n",
      "xscale(\"log\")\n",
      "xlim(0.54, 2e6)\n",
      "\n",
      "legend()\n",
      "xlabel(\"offset frequency [Hz]\") \n",
      "ylabel(\"amplitude [dBc/Hz]\")\n",
      "p.grey_title(\"Phase Noise in dBc/Hz\")\n",
      "grid(True, which = 'both')\n",
      "savefig(\"comparison_step_4_plot_input_data.png\")\n",
      "show()"
     ],
     "language": "python",
     "metadata": {},
     "outputs": [],
     "prompt_number": 9
    },
    {
     "cell_type": "code",
     "collapsed": false,
     "input": [
      "### Step 5: output files in dBc ###\n",
      "for i in arange(0, len_files):\n",
      "\tprint \"saving dBc-joined function for index \"+str(i)\n",
      "\tmy_filename = str(i)+\"_dBc.csv\"\n",
      "\tFILE_my_filename = open(my_filename, \"w\")\n",
      "\ti = 0\n",
      "\tmy_try = []\n",
      "\tfor j in range(0, len(x[i])):\n",
      "\t\tmy_try.append(str(x[i][j])+\",\"+str(y[i][j]))\n",
      "\tfor item in my_try:\n",
      "\t\tprint >> FILE_my_filename, item\n",
      "\ti += 1"
     ],
     "language": "python",
     "metadata": {},
     "outputs": [
      {
       "output_type": "stream",
       "stream": "stdout",
       "text": [
        "saving dBc-joined function for index 0\n"
       ]
      }
     ],
     "prompt_number": 10
    },
    {
     "cell_type": "code",
     "collapsed": false,
     "input": [],
     "language": "python",
     "metadata": {},
     "outputs": []
    }
   ],
   "metadata": {}
  }
 ]
}